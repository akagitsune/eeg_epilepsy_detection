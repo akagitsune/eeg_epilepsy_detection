{
 "cells": [
  {
   "cell_type": "markdown",
   "id": "59da4b35-baea-46d6-8095-e726fb148349",
   "metadata": {},
   "source": [
    "#  Детектирование приступа эпилепсии по данным электроэнцефалограммы (EEG)"
   ]
  },
  {
   "cell_type": "code",
   "execution_count": 1,
   "id": "91df682d-a21c-403b-9ffd-dc462aa51d1d",
   "metadata": {},
   "outputs": [],
   "source": [
    "import numpy as np\n",
    "import pandas as pd\n",
    "import seaborn as sns\n",
    "import matplotlib.pyplot as plt\n",
    "from sklearn.model_selection import train_test_split\n",
    "from sklearn.pipeline import Pipeline\n",
    "from sklearn.preprocessing import StandardScaler\n",
    "from sklearn.ensemble import RandomForestClassifier\n",
    "from sklearn.metrics import plot_roc_curve"
   ]
  },
  {
   "cell_type": "code",
   "execution_count": 2,
   "id": "b34fd006-4999-41fb-b6ac-61f189e74bfb",
   "metadata": {},
   "outputs": [],
   "source": [
    "eeg = pd.read_csv('data.csv')\n",
    "sns.set_style(\"whitegrid\")"
   ]
  },
  {
   "cell_type": "markdown",
   "id": "3f2ffd6b-59a7-40ec-b36b-38b48749d355",
   "metadata": {},
   "source": [
    "Набор данных представляет из себя 11500 записей с электроэнцефалограммой. Каждая запись соответствует какому-либо состоянию пациента в момент снятия показаний электоэнцефалограммы.   \n",
    "В качестве задачи предплагается построение модели, которая умеет предсказывать по электроэнцефалограмме, был ли пристут эпилепсии или нет. Приступу эпилепсии соответствует класс 1 в y.    \n",
    "Всего измерений 178, произведенных с частотой 1 Гц (1 раз в секунду)."
   ]
  },
  {
   "cell_type": "code",
   "execution_count": 3,
   "id": "536511ae-47e7-4238-87bc-05a86bc1de4d",
   "metadata": {},
   "outputs": [],
   "source": [
    "N = 178"
   ]
  },
  {
   "cell_type": "code",
   "execution_count": 4,
   "id": "5c26b94c-0f93-42b9-8d9b-6043144b24f7",
   "metadata": {},
   "outputs": [],
   "source": [
    "eeg = eeg.rename({'Unnamed: 0':'id'}, axis=1)"
   ]
  },
  {
   "cell_type": "code",
   "execution_count": 5,
   "id": "811a7748-b5ef-4192-be4a-55cac5b77502",
   "metadata": {},
   "outputs": [],
   "source": [
    "eeg = eeg.set_index('id')"
   ]
  },
  {
   "cell_type": "code",
   "execution_count": 6,
   "id": "bc652ed6-d467-4971-81a0-9da23c8ffb9e",
   "metadata": {},
   "outputs": [
    {
     "data": {
      "text/html": [
       "<div>\n",
       "<style scoped>\n",
       "    .dataframe tbody tr th:only-of-type {\n",
       "        vertical-align: middle;\n",
       "    }\n",
       "\n",
       "    .dataframe tbody tr th {\n",
       "        vertical-align: top;\n",
       "    }\n",
       "\n",
       "    .dataframe thead th {\n",
       "        text-align: right;\n",
       "    }\n",
       "</style>\n",
       "<table border=\"1\" class=\"dataframe\">\n",
       "  <thead>\n",
       "    <tr style=\"text-align: right;\">\n",
       "      <th></th>\n",
       "      <th>X1</th>\n",
       "      <th>X2</th>\n",
       "      <th>X3</th>\n",
       "      <th>X4</th>\n",
       "      <th>X5</th>\n",
       "      <th>X6</th>\n",
       "      <th>X7</th>\n",
       "      <th>X8</th>\n",
       "      <th>X9</th>\n",
       "      <th>X10</th>\n",
       "      <th>...</th>\n",
       "      <th>X170</th>\n",
       "      <th>X171</th>\n",
       "      <th>X172</th>\n",
       "      <th>X173</th>\n",
       "      <th>X174</th>\n",
       "      <th>X175</th>\n",
       "      <th>X176</th>\n",
       "      <th>X177</th>\n",
       "      <th>X178</th>\n",
       "      <th>y</th>\n",
       "    </tr>\n",
       "    <tr>\n",
       "      <th>id</th>\n",
       "      <th></th>\n",
       "      <th></th>\n",
       "      <th></th>\n",
       "      <th></th>\n",
       "      <th></th>\n",
       "      <th></th>\n",
       "      <th></th>\n",
       "      <th></th>\n",
       "      <th></th>\n",
       "      <th></th>\n",
       "      <th></th>\n",
       "      <th></th>\n",
       "      <th></th>\n",
       "      <th></th>\n",
       "      <th></th>\n",
       "      <th></th>\n",
       "      <th></th>\n",
       "      <th></th>\n",
       "      <th></th>\n",
       "      <th></th>\n",
       "      <th></th>\n",
       "    </tr>\n",
       "  </thead>\n",
       "  <tbody>\n",
       "    <tr>\n",
       "      <th>X21.V1.791</th>\n",
       "      <td>135</td>\n",
       "      <td>190</td>\n",
       "      <td>229</td>\n",
       "      <td>223</td>\n",
       "      <td>192</td>\n",
       "      <td>125</td>\n",
       "      <td>55</td>\n",
       "      <td>-9</td>\n",
       "      <td>-33</td>\n",
       "      <td>-38</td>\n",
       "      <td>...</td>\n",
       "      <td>-17</td>\n",
       "      <td>-15</td>\n",
       "      <td>-31</td>\n",
       "      <td>-77</td>\n",
       "      <td>-103</td>\n",
       "      <td>-127</td>\n",
       "      <td>-116</td>\n",
       "      <td>-83</td>\n",
       "      <td>-51</td>\n",
       "      <td>4</td>\n",
       "    </tr>\n",
       "    <tr>\n",
       "      <th>X15.V1.924</th>\n",
       "      <td>386</td>\n",
       "      <td>382</td>\n",
       "      <td>356</td>\n",
       "      <td>331</td>\n",
       "      <td>320</td>\n",
       "      <td>315</td>\n",
       "      <td>307</td>\n",
       "      <td>272</td>\n",
       "      <td>244</td>\n",
       "      <td>232</td>\n",
       "      <td>...</td>\n",
       "      <td>164</td>\n",
       "      <td>150</td>\n",
       "      <td>146</td>\n",
       "      <td>152</td>\n",
       "      <td>157</td>\n",
       "      <td>156</td>\n",
       "      <td>154</td>\n",
       "      <td>143</td>\n",
       "      <td>129</td>\n",
       "      <td>1</td>\n",
       "    </tr>\n",
       "    <tr>\n",
       "      <th>X8.V1.1</th>\n",
       "      <td>-32</td>\n",
       "      <td>-39</td>\n",
       "      <td>-47</td>\n",
       "      <td>-37</td>\n",
       "      <td>-32</td>\n",
       "      <td>-36</td>\n",
       "      <td>-57</td>\n",
       "      <td>-73</td>\n",
       "      <td>-85</td>\n",
       "      <td>-94</td>\n",
       "      <td>...</td>\n",
       "      <td>57</td>\n",
       "      <td>64</td>\n",
       "      <td>48</td>\n",
       "      <td>19</td>\n",
       "      <td>-12</td>\n",
       "      <td>-30</td>\n",
       "      <td>-35</td>\n",
       "      <td>-35</td>\n",
       "      <td>-36</td>\n",
       "      <td>5</td>\n",
       "    </tr>\n",
       "    <tr>\n",
       "      <th>X16.V1.60</th>\n",
       "      <td>-105</td>\n",
       "      <td>-101</td>\n",
       "      <td>-96</td>\n",
       "      <td>-92</td>\n",
       "      <td>-89</td>\n",
       "      <td>-95</td>\n",
       "      <td>-102</td>\n",
       "      <td>-100</td>\n",
       "      <td>-87</td>\n",
       "      <td>-79</td>\n",
       "      <td>...</td>\n",
       "      <td>-82</td>\n",
       "      <td>-81</td>\n",
       "      <td>-80</td>\n",
       "      <td>-77</td>\n",
       "      <td>-85</td>\n",
       "      <td>-77</td>\n",
       "      <td>-72</td>\n",
       "      <td>-69</td>\n",
       "      <td>-65</td>\n",
       "      <td>5</td>\n",
       "    </tr>\n",
       "    <tr>\n",
       "      <th>X20.V1.54</th>\n",
       "      <td>-9</td>\n",
       "      <td>-65</td>\n",
       "      <td>-98</td>\n",
       "      <td>-102</td>\n",
       "      <td>-78</td>\n",
       "      <td>-48</td>\n",
       "      <td>-16</td>\n",
       "      <td>0</td>\n",
       "      <td>-21</td>\n",
       "      <td>-59</td>\n",
       "      <td>...</td>\n",
       "      <td>4</td>\n",
       "      <td>2</td>\n",
       "      <td>-12</td>\n",
       "      <td>-32</td>\n",
       "      <td>-41</td>\n",
       "      <td>-65</td>\n",
       "      <td>-83</td>\n",
       "      <td>-89</td>\n",
       "      <td>-73</td>\n",
       "      <td>5</td>\n",
       "    </tr>\n",
       "    <tr>\n",
       "      <th>...</th>\n",
       "      <td>...</td>\n",
       "      <td>...</td>\n",
       "      <td>...</td>\n",
       "      <td>...</td>\n",
       "      <td>...</td>\n",
       "      <td>...</td>\n",
       "      <td>...</td>\n",
       "      <td>...</td>\n",
       "      <td>...</td>\n",
       "      <td>...</td>\n",
       "      <td>...</td>\n",
       "      <td>...</td>\n",
       "      <td>...</td>\n",
       "      <td>...</td>\n",
       "      <td>...</td>\n",
       "      <td>...</td>\n",
       "      <td>...</td>\n",
       "      <td>...</td>\n",
       "      <td>...</td>\n",
       "      <td>...</td>\n",
       "      <td>...</td>\n",
       "    </tr>\n",
       "    <tr>\n",
       "      <th>X22.V1.114</th>\n",
       "      <td>-22</td>\n",
       "      <td>-22</td>\n",
       "      <td>-23</td>\n",
       "      <td>-26</td>\n",
       "      <td>-36</td>\n",
       "      <td>-42</td>\n",
       "      <td>-45</td>\n",
       "      <td>-42</td>\n",
       "      <td>-45</td>\n",
       "      <td>-49</td>\n",
       "      <td>...</td>\n",
       "      <td>15</td>\n",
       "      <td>16</td>\n",
       "      <td>12</td>\n",
       "      <td>5</td>\n",
       "      <td>-1</td>\n",
       "      <td>-18</td>\n",
       "      <td>-37</td>\n",
       "      <td>-47</td>\n",
       "      <td>-48</td>\n",
       "      <td>2</td>\n",
       "    </tr>\n",
       "    <tr>\n",
       "      <th>X19.V1.354</th>\n",
       "      <td>-47</td>\n",
       "      <td>-11</td>\n",
       "      <td>28</td>\n",
       "      <td>77</td>\n",
       "      <td>141</td>\n",
       "      <td>211</td>\n",
       "      <td>246</td>\n",
       "      <td>240</td>\n",
       "      <td>193</td>\n",
       "      <td>136</td>\n",
       "      <td>...</td>\n",
       "      <td>-65</td>\n",
       "      <td>-33</td>\n",
       "      <td>-7</td>\n",
       "      <td>14</td>\n",
       "      <td>27</td>\n",
       "      <td>48</td>\n",
       "      <td>77</td>\n",
       "      <td>117</td>\n",
       "      <td>170</td>\n",
       "      <td>1</td>\n",
       "    </tr>\n",
       "    <tr>\n",
       "      <th>X8.V1.28</th>\n",
       "      <td>14</td>\n",
       "      <td>6</td>\n",
       "      <td>-13</td>\n",
       "      <td>-16</td>\n",
       "      <td>10</td>\n",
       "      <td>26</td>\n",
       "      <td>27</td>\n",
       "      <td>-9</td>\n",
       "      <td>4</td>\n",
       "      <td>14</td>\n",
       "      <td>...</td>\n",
       "      <td>-65</td>\n",
       "      <td>-48</td>\n",
       "      <td>-61</td>\n",
       "      <td>-62</td>\n",
       "      <td>-67</td>\n",
       "      <td>-30</td>\n",
       "      <td>-2</td>\n",
       "      <td>-1</td>\n",
       "      <td>-8</td>\n",
       "      <td>5</td>\n",
       "    </tr>\n",
       "    <tr>\n",
       "      <th>X10.V1.932</th>\n",
       "      <td>-40</td>\n",
       "      <td>-25</td>\n",
       "      <td>-9</td>\n",
       "      <td>-12</td>\n",
       "      <td>-2</td>\n",
       "      <td>12</td>\n",
       "      <td>7</td>\n",
       "      <td>19</td>\n",
       "      <td>22</td>\n",
       "      <td>29</td>\n",
       "      <td>...</td>\n",
       "      <td>121</td>\n",
       "      <td>135</td>\n",
       "      <td>148</td>\n",
       "      <td>143</td>\n",
       "      <td>116</td>\n",
       "      <td>86</td>\n",
       "      <td>68</td>\n",
       "      <td>59</td>\n",
       "      <td>55</td>\n",
       "      <td>3</td>\n",
       "    </tr>\n",
       "    <tr>\n",
       "      <th>X16.V1.210</th>\n",
       "      <td>29</td>\n",
       "      <td>41</td>\n",
       "      <td>57</td>\n",
       "      <td>72</td>\n",
       "      <td>74</td>\n",
       "      <td>62</td>\n",
       "      <td>54</td>\n",
       "      <td>43</td>\n",
       "      <td>31</td>\n",
       "      <td>23</td>\n",
       "      <td>...</td>\n",
       "      <td>-59</td>\n",
       "      <td>-25</td>\n",
       "      <td>-4</td>\n",
       "      <td>2</td>\n",
       "      <td>5</td>\n",
       "      <td>4</td>\n",
       "      <td>-2</td>\n",
       "      <td>2</td>\n",
       "      <td>20</td>\n",
       "      <td>4</td>\n",
       "    </tr>\n",
       "  </tbody>\n",
       "</table>\n",
       "<p>11500 rows × 179 columns</p>\n",
       "</div>"
      ],
      "text/plain": [
       "             X1   X2   X3   X4   X5   X6   X7   X8   X9  X10  ...  X170  X171  \\\n",
       "id                                                            ...               \n",
       "X21.V1.791  135  190  229  223  192  125   55   -9  -33  -38  ...   -17   -15   \n",
       "X15.V1.924  386  382  356  331  320  315  307  272  244  232  ...   164   150   \n",
       "X8.V1.1     -32  -39  -47  -37  -32  -36  -57  -73  -85  -94  ...    57    64   \n",
       "X16.V1.60  -105 -101  -96  -92  -89  -95 -102 -100  -87  -79  ...   -82   -81   \n",
       "X20.V1.54    -9  -65  -98 -102  -78  -48  -16    0  -21  -59  ...     4     2   \n",
       "...         ...  ...  ...  ...  ...  ...  ...  ...  ...  ...  ...   ...   ...   \n",
       "X22.V1.114  -22  -22  -23  -26  -36  -42  -45  -42  -45  -49  ...    15    16   \n",
       "X19.V1.354  -47  -11   28   77  141  211  246  240  193  136  ...   -65   -33   \n",
       "X8.V1.28     14    6  -13  -16   10   26   27   -9    4   14  ...   -65   -48   \n",
       "X10.V1.932  -40  -25   -9  -12   -2   12    7   19   22   29  ...   121   135   \n",
       "X16.V1.210   29   41   57   72   74   62   54   43   31   23  ...   -59   -25   \n",
       "\n",
       "            X172  X173  X174  X175  X176  X177  X178  y  \n",
       "id                                                       \n",
       "X21.V1.791   -31   -77  -103  -127  -116   -83   -51  4  \n",
       "X15.V1.924   146   152   157   156   154   143   129  1  \n",
       "X8.V1.1       48    19   -12   -30   -35   -35   -36  5  \n",
       "X16.V1.60    -80   -77   -85   -77   -72   -69   -65  5  \n",
       "X20.V1.54    -12   -32   -41   -65   -83   -89   -73  5  \n",
       "...          ...   ...   ...   ...   ...   ...   ... ..  \n",
       "X22.V1.114    12     5    -1   -18   -37   -47   -48  2  \n",
       "X19.V1.354    -7    14    27    48    77   117   170  1  \n",
       "X8.V1.28     -61   -62   -67   -30    -2    -1    -8  5  \n",
       "X10.V1.932   148   143   116    86    68    59    55  3  \n",
       "X16.V1.210    -4     2     5     4    -2     2    20  4  \n",
       "\n",
       "[11500 rows x 179 columns]"
      ]
     },
     "execution_count": 6,
     "metadata": {},
     "output_type": "execute_result"
    }
   ],
   "source": [
    "eeg"
   ]
  },
  {
   "cell_type": "markdown",
   "id": "24291324-dda2-4057-893e-cdede874d22e",
   "metadata": {},
   "source": [
    "## EDA"
   ]
  },
  {
   "cell_type": "markdown",
   "id": "83db5e25-7af3-48e8-987b-0969332b9fc9",
   "metadata": {},
   "source": [
    "Посмотрим на то, как отличается поведение временных рядов для разных классов. Для этого усредним значения временных рядов для каждого класса."
   ]
  },
  {
   "cell_type": "code",
   "execution_count": 7,
   "id": "b51a56c6-b1d4-4fb2-9a6d-9c8f7fc818ed",
   "metadata": {},
   "outputs": [
    {
     "data": {
      "image/png": "[encoded data removed]",
      "text/plain": [
       "<Figure size 432x288 with 1 Axes>"
      ]
     },
     "metadata": {},
     "output_type": "display_data"
    }
   ],
   "source": [
    "for i in range(1, 6):\n",
    "    eeg[eeg['y'] == i].mean(axis=0, numeric_only=True).drop('y').plot(legend=True,label=i)\n",
    "    plt.xticks([])"
   ]
  },
  {
   "cell_type": "markdown",
   "id": "5f61408c-53e7-41fc-8f64-e5bc1fe188d7",
   "metadata": {},
   "source": [
    "Видно, что когда у человека начинается приступ, значения электроэнцефалограммы сильнее разбросаны."
   ]
  },
  {
   "cell_type": "markdown",
   "id": "7992c80a-03ae-4eb4-907e-e75ca88c3ac7",
   "metadata": {},
   "source": [
    "Преобразуем целевую переменную таким образом, чтоб наша модель занималась предсказанием только того, есть ли у пациента приступ эпилепсии или нет."
   ]
  },
  {
   "cell_type": "code",
   "execution_count": 8,
   "id": "739f54f5-bc8f-4b0a-9c8f-c886684f5c46",
   "metadata": {},
   "outputs": [],
   "source": [
    "X = eeg.drop(['y'],axis=1)"
   ]
  },
  {
   "cell_type": "code",
   "execution_count": 9,
   "id": "77e489d8-e30b-4455-83e1-721ac6f9696d",
   "metadata": {},
   "outputs": [],
   "source": [
    "y = (eeg['y'] == 1).astype('int64')"
   ]
  },
  {
   "cell_type": "code",
   "execution_count": 10,
   "id": "cb785fb3-ba8e-4845-b87d-a04cf4f445e8",
   "metadata": {},
   "outputs": [
    {
     "data": {
      "text/plain": [
       "id\n",
       "X21.V1.791    0\n",
       "X15.V1.924    1\n",
       "X8.V1.1       0\n",
       "X16.V1.60     0\n",
       "X20.V1.54     0\n",
       "             ..\n",
       "X22.V1.114    0\n",
       "X19.V1.354    1\n",
       "X8.V1.28      0\n",
       "X10.V1.932    0\n",
       "X16.V1.210    0\n",
       "Name: y, Length: 11500, dtype: int64"
      ]
     },
     "execution_count": 10,
     "metadata": {},
     "output_type": "execute_result"
    }
   ],
   "source": [
    "y"
   ]
  },
  {
   "cell_type": "code",
   "execution_count": 11,
   "id": "5d9c7dc9-9b36-4cdc-87c2-379816d9bd84",
   "metadata": {},
   "outputs": [
    {
     "data": {
      "text/html": [
       "<div>\n",
       "<style scoped>\n",
       "    .dataframe tbody tr th:only-of-type {\n",
       "        vertical-align: middle;\n",
       "    }\n",
       "\n",
       "    .dataframe tbody tr th {\n",
       "        vertical-align: top;\n",
       "    }\n",
       "\n",
       "    .dataframe thead th {\n",
       "        text-align: right;\n",
       "    }\n",
       "</style>\n",
       "<table border=\"1\" class=\"dataframe\">\n",
       "  <thead>\n",
       "    <tr style=\"text-align: right;\">\n",
       "      <th></th>\n",
       "      <th>X1</th>\n",
       "      <th>X2</th>\n",
       "      <th>X3</th>\n",
       "      <th>X4</th>\n",
       "      <th>X5</th>\n",
       "      <th>X6</th>\n",
       "      <th>X7</th>\n",
       "      <th>X8</th>\n",
       "      <th>X9</th>\n",
       "      <th>X10</th>\n",
       "      <th>...</th>\n",
       "      <th>X169</th>\n",
       "      <th>X170</th>\n",
       "      <th>X171</th>\n",
       "      <th>X172</th>\n",
       "      <th>X173</th>\n",
       "      <th>X174</th>\n",
       "      <th>X175</th>\n",
       "      <th>X176</th>\n",
       "      <th>X177</th>\n",
       "      <th>X178</th>\n",
       "    </tr>\n",
       "    <tr>\n",
       "      <th>id</th>\n",
       "      <th></th>\n",
       "      <th></th>\n",
       "      <th></th>\n",
       "      <th></th>\n",
       "      <th></th>\n",
       "      <th></th>\n",
       "      <th></th>\n",
       "      <th></th>\n",
       "      <th></th>\n",
       "      <th></th>\n",
       "      <th></th>\n",
       "      <th></th>\n",
       "      <th></th>\n",
       "      <th></th>\n",
       "      <th></th>\n",
       "      <th></th>\n",
       "      <th></th>\n",
       "      <th></th>\n",
       "      <th></th>\n",
       "      <th></th>\n",
       "      <th></th>\n",
       "    </tr>\n",
       "  </thead>\n",
       "  <tbody>\n",
       "    <tr>\n",
       "      <th>X21.V1.791</th>\n",
       "      <td>135</td>\n",
       "      <td>190</td>\n",
       "      <td>229</td>\n",
       "      <td>223</td>\n",
       "      <td>192</td>\n",
       "      <td>125</td>\n",
       "      <td>55</td>\n",
       "      <td>-9</td>\n",
       "      <td>-33</td>\n",
       "      <td>-38</td>\n",
       "      <td>...</td>\n",
       "      <td>8</td>\n",
       "      <td>-17</td>\n",
       "      <td>-15</td>\n",
       "      <td>-31</td>\n",
       "      <td>-77</td>\n",
       "      <td>-103</td>\n",
       "      <td>-127</td>\n",
       "      <td>-116</td>\n",
       "      <td>-83</td>\n",
       "      <td>-51</td>\n",
       "    </tr>\n",
       "    <tr>\n",
       "      <th>X15.V1.924</th>\n",
       "      <td>386</td>\n",
       "      <td>382</td>\n",
       "      <td>356</td>\n",
       "      <td>331</td>\n",
       "      <td>320</td>\n",
       "      <td>315</td>\n",
       "      <td>307</td>\n",
       "      <td>272</td>\n",
       "      <td>244</td>\n",
       "      <td>232</td>\n",
       "      <td>...</td>\n",
       "      <td>168</td>\n",
       "      <td>164</td>\n",
       "      <td>150</td>\n",
       "      <td>146</td>\n",
       "      <td>152</td>\n",
       "      <td>157</td>\n",
       "      <td>156</td>\n",
       "      <td>154</td>\n",
       "      <td>143</td>\n",
       "      <td>129</td>\n",
       "    </tr>\n",
       "    <tr>\n",
       "      <th>X8.V1.1</th>\n",
       "      <td>-32</td>\n",
       "      <td>-39</td>\n",
       "      <td>-47</td>\n",
       "      <td>-37</td>\n",
       "      <td>-32</td>\n",
       "      <td>-36</td>\n",
       "      <td>-57</td>\n",
       "      <td>-73</td>\n",
       "      <td>-85</td>\n",
       "      <td>-94</td>\n",
       "      <td>...</td>\n",
       "      <td>29</td>\n",
       "      <td>57</td>\n",
       "      <td>64</td>\n",
       "      <td>48</td>\n",
       "      <td>19</td>\n",
       "      <td>-12</td>\n",
       "      <td>-30</td>\n",
       "      <td>-35</td>\n",
       "      <td>-35</td>\n",
       "      <td>-36</td>\n",
       "    </tr>\n",
       "    <tr>\n",
       "      <th>X16.V1.60</th>\n",
       "      <td>-105</td>\n",
       "      <td>-101</td>\n",
       "      <td>-96</td>\n",
       "      <td>-92</td>\n",
       "      <td>-89</td>\n",
       "      <td>-95</td>\n",
       "      <td>-102</td>\n",
       "      <td>-100</td>\n",
       "      <td>-87</td>\n",
       "      <td>-79</td>\n",
       "      <td>...</td>\n",
       "      <td>-80</td>\n",
       "      <td>-82</td>\n",
       "      <td>-81</td>\n",
       "      <td>-80</td>\n",
       "      <td>-77</td>\n",
       "      <td>-85</td>\n",
       "      <td>-77</td>\n",
       "      <td>-72</td>\n",
       "      <td>-69</td>\n",
       "      <td>-65</td>\n",
       "    </tr>\n",
       "    <tr>\n",
       "      <th>X20.V1.54</th>\n",
       "      <td>-9</td>\n",
       "      <td>-65</td>\n",
       "      <td>-98</td>\n",
       "      <td>-102</td>\n",
       "      <td>-78</td>\n",
       "      <td>-48</td>\n",
       "      <td>-16</td>\n",
       "      <td>0</td>\n",
       "      <td>-21</td>\n",
       "      <td>-59</td>\n",
       "      <td>...</td>\n",
       "      <td>10</td>\n",
       "      <td>4</td>\n",
       "      <td>2</td>\n",
       "      <td>-12</td>\n",
       "      <td>-32</td>\n",
       "      <td>-41</td>\n",
       "      <td>-65</td>\n",
       "      <td>-83</td>\n",
       "      <td>-89</td>\n",
       "      <td>-73</td>\n",
       "    </tr>\n",
       "    <tr>\n",
       "      <th>...</th>\n",
       "      <td>...</td>\n",
       "      <td>...</td>\n",
       "      <td>...</td>\n",
       "      <td>...</td>\n",
       "      <td>...</td>\n",
       "      <td>...</td>\n",
       "      <td>...</td>\n",
       "      <td>...</td>\n",
       "      <td>...</td>\n",
       "      <td>...</td>\n",
       "      <td>...</td>\n",
       "      <td>...</td>\n",
       "      <td>...</td>\n",
       "      <td>...</td>\n",
       "      <td>...</td>\n",
       "      <td>...</td>\n",
       "      <td>...</td>\n",
       "      <td>...</td>\n",
       "      <td>...</td>\n",
       "      <td>...</td>\n",
       "      <td>...</td>\n",
       "    </tr>\n",
       "    <tr>\n",
       "      <th>X22.V1.114</th>\n",
       "      <td>-22</td>\n",
       "      <td>-22</td>\n",
       "      <td>-23</td>\n",
       "      <td>-26</td>\n",
       "      <td>-36</td>\n",
       "      <td>-42</td>\n",
       "      <td>-45</td>\n",
       "      <td>-42</td>\n",
       "      <td>-45</td>\n",
       "      <td>-49</td>\n",
       "      <td>...</td>\n",
       "      <td>20</td>\n",
       "      <td>15</td>\n",
       "      <td>16</td>\n",
       "      <td>12</td>\n",
       "      <td>5</td>\n",
       "      <td>-1</td>\n",
       "      <td>-18</td>\n",
       "      <td>-37</td>\n",
       "      <td>-47</td>\n",
       "      <td>-48</td>\n",
       "    </tr>\n",
       "    <tr>\n",
       "      <th>X19.V1.354</th>\n",
       "      <td>-47</td>\n",
       "      <td>-11</td>\n",
       "      <td>28</td>\n",
       "      <td>77</td>\n",
       "      <td>141</td>\n",
       "      <td>211</td>\n",
       "      <td>246</td>\n",
       "      <td>240</td>\n",
       "      <td>193</td>\n",
       "      <td>136</td>\n",
       "      <td>...</td>\n",
       "      <td>-94</td>\n",
       "      <td>-65</td>\n",
       "      <td>-33</td>\n",
       "      <td>-7</td>\n",
       "      <td>14</td>\n",
       "      <td>27</td>\n",
       "      <td>48</td>\n",
       "      <td>77</td>\n",
       "      <td>117</td>\n",
       "      <td>170</td>\n",
       "    </tr>\n",
       "    <tr>\n",
       "      <th>X8.V1.28</th>\n",
       "      <td>14</td>\n",
       "      <td>6</td>\n",
       "      <td>-13</td>\n",
       "      <td>-16</td>\n",
       "      <td>10</td>\n",
       "      <td>26</td>\n",
       "      <td>27</td>\n",
       "      <td>-9</td>\n",
       "      <td>4</td>\n",
       "      <td>14</td>\n",
       "      <td>...</td>\n",
       "      <td>-42</td>\n",
       "      <td>-65</td>\n",
       "      <td>-48</td>\n",
       "      <td>-61</td>\n",
       "      <td>-62</td>\n",
       "      <td>-67</td>\n",
       "      <td>-30</td>\n",
       "      <td>-2</td>\n",
       "      <td>-1</td>\n",
       "      <td>-8</td>\n",
       "    </tr>\n",
       "    <tr>\n",
       "      <th>X10.V1.932</th>\n",
       "      <td>-40</td>\n",
       "      <td>-25</td>\n",
       "      <td>-9</td>\n",
       "      <td>-12</td>\n",
       "      <td>-2</td>\n",
       "      <td>12</td>\n",
       "      <td>7</td>\n",
       "      <td>19</td>\n",
       "      <td>22</td>\n",
       "      <td>29</td>\n",
       "      <td>...</td>\n",
       "      <td>114</td>\n",
       "      <td>121</td>\n",
       "      <td>135</td>\n",
       "      <td>148</td>\n",
       "      <td>143</td>\n",
       "      <td>116</td>\n",
       "      <td>86</td>\n",
       "      <td>68</td>\n",
       "      <td>59</td>\n",
       "      <td>55</td>\n",
       "    </tr>\n",
       "    <tr>\n",
       "      <th>X16.V1.210</th>\n",
       "      <td>29</td>\n",
       "      <td>41</td>\n",
       "      <td>57</td>\n",
       "      <td>72</td>\n",
       "      <td>74</td>\n",
       "      <td>62</td>\n",
       "      <td>54</td>\n",
       "      <td>43</td>\n",
       "      <td>31</td>\n",
       "      <td>23</td>\n",
       "      <td>...</td>\n",
       "      <td>-94</td>\n",
       "      <td>-59</td>\n",
       "      <td>-25</td>\n",
       "      <td>-4</td>\n",
       "      <td>2</td>\n",
       "      <td>5</td>\n",
       "      <td>4</td>\n",
       "      <td>-2</td>\n",
       "      <td>2</td>\n",
       "      <td>20</td>\n",
       "    </tr>\n",
       "  </tbody>\n",
       "</table>\n",
       "<p>11500 rows × 178 columns</p>\n",
       "</div>"
      ],
      "text/plain": [
       "             X1   X2   X3   X4   X5   X6   X7   X8   X9  X10  ...  X169  X170  \\\n",
       "id                                                            ...               \n",
       "X21.V1.791  135  190  229  223  192  125   55   -9  -33  -38  ...     8   -17   \n",
       "X15.V1.924  386  382  356  331  320  315  307  272  244  232  ...   168   164   \n",
       "X8.V1.1     -32  -39  -47  -37  -32  -36  -57  -73  -85  -94  ...    29    57   \n",
       "X16.V1.60  -105 -101  -96  -92  -89  -95 -102 -100  -87  -79  ...   -80   -82   \n",
       "X20.V1.54    -9  -65  -98 -102  -78  -48  -16    0  -21  -59  ...    10     4   \n",
       "...         ...  ...  ...  ...  ...  ...  ...  ...  ...  ...  ...   ...   ...   \n",
       "X22.V1.114  -22  -22  -23  -26  -36  -42  -45  -42  -45  -49  ...    20    15   \n",
       "X19.V1.354  -47  -11   28   77  141  211  246  240  193  136  ...   -94   -65   \n",
       "X8.V1.28     14    6  -13  -16   10   26   27   -9    4   14  ...   -42   -65   \n",
       "X10.V1.932  -40  -25   -9  -12   -2   12    7   19   22   29  ...   114   121   \n",
       "X16.V1.210   29   41   57   72   74   62   54   43   31   23  ...   -94   -59   \n",
       "\n",
       "            X171  X172  X173  X174  X175  X176  X177  X178  \n",
       "id                                                          \n",
       "X21.V1.791   -15   -31   -77  -103  -127  -116   -83   -51  \n",
       "X15.V1.924   150   146   152   157   156   154   143   129  \n",
       "X8.V1.1       64    48    19   -12   -30   -35   -35   -36  \n",
       "X16.V1.60    -81   -80   -77   -85   -77   -72   -69   -65  \n",
       "X20.V1.54      2   -12   -32   -41   -65   -83   -89   -73  \n",
       "...          ...   ...   ...   ...   ...   ...   ...   ...  \n",
       "X22.V1.114    16    12     5    -1   -18   -37   -47   -48  \n",
       "X19.V1.354   -33    -7    14    27    48    77   117   170  \n",
       "X8.V1.28     -48   -61   -62   -67   -30    -2    -1    -8  \n",
       "X10.V1.932   135   148   143   116    86    68    59    55  \n",
       "X16.V1.210   -25    -4     2     5     4    -2     2    20  \n",
       "\n",
       "[11500 rows x 178 columns]"
      ]
     },
     "execution_count": 11,
     "metadata": {},
     "output_type": "execute_result"
    }
   ],
   "source": [
    "X"
   ]
  },
  {
   "cell_type": "code",
   "execution_count": 12,
   "id": "c7080544-7f47-4c43-9ae6-ef19111068fb",
   "metadata": {},
   "outputs": [
    {
     "data": {
      "text/plain": [
       "([], [])"
      ]
     },
     "execution_count": 12,
     "metadata": {},
     "output_type": "execute_result"
    },
    {
     "data": {
      "image/png": "[encoded data removed]",
      "text/plain": [
       "<Figure size 432x288 with 1 Axes>"
      ]
     },
     "metadata": {},
     "output_type": "display_data"
    }
   ],
   "source": [
    "plt.plot(np.mean(X[y==1], axis=0))\n",
    "plt.plot(np.mean(X[y==0], axis=0))\n",
    "plt.xticks([])"
   ]
  },
  {
   "cell_type": "markdown",
   "id": "a41a426c-f576-4f4a-bba8-f51a8eb104fa",
   "metadata": {},
   "source": [
    "Видно, что поведение электроэнцефалограмм с приступом и без него сильно различаются."
   ]
  },
  {
   "cell_type": "markdown",
   "id": "20af4f58-b1e0-41b1-9414-dd9ba8d6d454",
   "metadata": {},
   "source": [
    "### Train-Test split"
   ]
  },
  {
   "cell_type": "code",
   "execution_count": 13,
   "id": "5db68453-1162-4a62-9ed1-57494c7cde29",
   "metadata": {},
   "outputs": [],
   "source": [
    "X_train, X_test, y_train, y_test = train_test_split(X, y, test_size=0.2, random_state=42, stratify=y)"
   ]
  },
  {
   "cell_type": "markdown",
   "id": "9904fdc7-6c04-4d77-ac4e-edca663a9aaf",
   "metadata": {},
   "source": [
    "## Baseline     \n",
    "Для baseline возьмем RandomForest и предварительно отмасштабируем сырые данные. Посмотрим, что получится."
   ]
  },
  {
   "cell_type": "code",
   "execution_count": 14,
   "id": "48017978-2152-4f21-8cff-8edf08e18204",
   "metadata": {},
   "outputs": [],
   "source": [
    "pipeline = Pipeline([('scaler', StandardScaler()), \n",
    "                     ('model',RandomForestClassifier(max_depth=5))])"
   ]
  },
  {
   "cell_type": "code",
   "execution_count": 15,
   "id": "4e4fe2eb-0b94-4391-8565-0dfaebcdb4bd",
   "metadata": {},
   "outputs": [
    {
     "data": {
      "text/plain": [
       "Pipeline(steps=[('scaler', StandardScaler()),\n",
       "                ('model', RandomForestClassifier(max_depth=5))])"
      ]
     },
     "execution_count": 15,
     "metadata": {},
     "output_type": "execute_result"
    }
   ],
   "source": [
    "pipeline.fit(X_train, y_train)"
   ]
  },
  {
   "cell_type": "markdown",
   "id": "1e1a17d5-66ca-4e09-afc2-4338ef9bec85",
   "metadata": {},
   "source": [
    "#### Accuracy:"
   ]
  },
  {
   "cell_type": "code",
   "execution_count": 16,
   "id": "6aca632a-e682-47dd-8604-cd5853f6e445",
   "metadata": {},
   "outputs": [
    {
     "data": {
      "text/plain": [
       "0.9552173913043478"
      ]
     },
     "execution_count": 16,
     "metadata": {},
     "output_type": "execute_result"
    }
   ],
   "source": [
    "pipeline.score(X_train, y_train)"
   ]
  },
  {
   "cell_type": "code",
   "execution_count": 17,
   "id": "72ffcf15-aaaa-41ff-b771-5a52c066bd4d",
   "metadata": {},
   "outputs": [
    {
     "data": {
      "text/plain": [
       "0.947391304347826"
      ]
     },
     "execution_count": 17,
     "metadata": {},
     "output_type": "execute_result"
    }
   ],
   "source": [
    "pipeline.score(X_test, y_test)"
   ]
  },
  {
   "cell_type": "markdown",
   "id": "cbd61975-0a63-4880-9ac2-36d2fd7dd3fa",
   "metadata": {},
   "source": [
    "#### ROC-Curve:"
   ]
  },
  {
   "cell_type": "code",
   "execution_count": 18,
   "id": "281bc9dc-1d86-4aec-9825-882b444bdcaf",
   "metadata": {
    "tags": []
   },
   "outputs": [
    {
     "data": {
      "text/plain": [
       "<sklearn.metrics._plot.roc_curve.RocCurveDisplay at 0x1c64dc228b0>"
      ]
     },
     "execution_count": 18,
     "metadata": {},
     "output_type": "execute_result"
    },
    {
     "data": {
      "image/png": "[encoded data removed]",
      "text/plain": [
       "<Figure size 432x288 with 1 Axes>"
      ]
     },
     "metadata": {},
     "output_type": "display_data"
    }
   ],
   "source": [
    "plot_roc_curve(pipeline, X_train, y_train)"
   ]
  },
  {
   "cell_type": "code",
   "execution_count": 19,
   "id": "fa189fba-d817-466b-b507-353dd1b516fd",
   "metadata": {},
   "outputs": [
    {
     "data": {
      "text/plain": [
       "<sklearn.metrics._plot.roc_curve.RocCurveDisplay at 0x1c64eca6cd0>"
      ]
     },
     "execution_count": 19,
     "metadata": {},
     "output_type": "execute_result"
    },
    {
     "data": {
      "image/png": "[encoded data removed]",
      "text/plain": [
       "<Figure size 432x288 with 1 Axes>"
      ]
     },
     "metadata": {},
     "output_type": "display_data"
    }
   ],
   "source": [
    "plot_roc_curve(pipeline, X_test, y_test)"
   ]
  },
  {
   "cell_type": "markdown",
   "id": "5f0e881e-2bb0-44f6-b796-497c74740ad4",
   "metadata": {},
   "source": [
    "В целом, уже хорошо получилось. Попробуем поэкспериментировать с различными преобразованиями над временными рядами."
   ]
  },
  {
   "cell_type": "markdown",
   "id": "c983a32c-2cd8-4cab-9996-8650b7b63636",
   "metadata": {},
   "source": [
    "## FFT-Features     \n",
    "Применим быстрое преобразование Фурье к усредненным временным рядам по классам и посмотрим, различаются ли признаки в частотном пространстве."
   ]
  },
  {
   "cell_type": "code",
   "execution_count": 20,
   "id": "b90c07f3-5ef6-48d5-989f-5a0799c43e77",
   "metadata": {},
   "outputs": [],
   "source": [
    "from scipy.fft import fft, fftfreq"
   ]
  },
  {
   "cell_type": "markdown",
   "id": "edc4a603-1e07-49a0-b96c-aa2ccea090e6",
   "metadata": {},
   "source": [
    "Пациенты, у которых "
   ]
  },
  {
   "cell_type": "code",
   "execution_count": 21,
   "id": "ad5737fa-4f35-4adc-9493-cfa608c797f8",
   "metadata": {},
   "outputs": [
    {
     "data": {
      "text/plain": [
       "[<matplotlib.lines.Line2D at 0x1c64df2b610>]"
      ]
     },
     "execution_count": 21,
     "metadata": {},
     "output_type": "execute_result"
    },
    {
     "data": {
      "image/png": "[encoded data removed]",
      "text/plain": [
       "<Figure size 432x288 with 1 Axes>"
      ]
     },
     "metadata": {},
     "output_type": "display_data"
    }
   ],
   "source": [
    "yf = fft(X_train[y_train==1].mean(axis=0).to_numpy())\n",
    "xf = fftfreq(N)[:N//4]\n",
    "plt.plot(xf, 2.0/N * np.abs(yf[0:N//4]))"
   ]
  },
  {
   "cell_type": "code",
   "execution_count": 22,
   "id": "6d4f490b-34d0-453e-8312-7ff65b36aa7e",
   "metadata": {},
   "outputs": [
    {
     "data": {
      "text/plain": [
       "[<matplotlib.lines.Line2D at 0x1c64dd91e50>]"
      ]
     },
     "execution_count": 22,
     "metadata": {},
     "output_type": "execute_result"
    },
    {
     "data": {
      "image/png": "[encoded data removed]",
      "text/plain": [
       "<Figure size 432x288 with 1 Axes>"
      ]
     },
     "metadata": {},
     "output_type": "display_data"
    }
   ],
   "source": [
    "yf = fft(X_train[y_train==0].mean(axis=0).to_numpy())\n",
    "xf = fftfreq(N)[:N//4]\n",
    "plt.plot(xf, 2.0/N * np.abs(yf[0:N//4]))"
   ]
  },
  {
   "cell_type": "markdown",
   "id": "db7fb5c3-d885-4238-a223-b3210c304fc2",
   "metadata": {},
   "source": [
    "Видно, что в частотном пространстве разные классы весьма сильно отличаются. Попробуем отобрать признаки и посмотреть, как модель из baseline, будет работать на новых признаках."
   ]
  },
  {
   "cell_type": "code",
   "execution_count": 23,
   "id": "a96dc832-29a0-4997-b831-c6b1d63ec2ee",
   "metadata": {},
   "outputs": [],
   "source": [
    "X_train_fft =  2.0/N * np.abs(fft(X_train)[:, :N//4])\n",
    "X_test_fft = 2.0/N * np.abs(fft(X_test)[:, :N//4])"
   ]
  },
  {
   "cell_type": "code",
   "execution_count": 24,
   "id": "c047ce26-f642-4a76-bac9-c07c7432f0b7",
   "metadata": {},
   "outputs": [
    {
     "data": {
      "text/plain": [
       "((9200, 44), (2300, 44))"
      ]
     },
     "execution_count": 24,
     "metadata": {},
     "output_type": "execute_result"
    }
   ],
   "source": [
    "X_train_fft.shape, X_test_fft.shape"
   ]
  },
  {
   "cell_type": "code",
   "execution_count": 25,
   "id": "5f8daa72-bf53-46d8-b27d-6cede537bce4",
   "metadata": {},
   "outputs": [],
   "source": [
    "pipeline_fft = Pipeline([('scaler', StandardScaler()), \n",
    "                     ('model',RandomForestClassifier(max_depth=5))])"
   ]
  },
  {
   "cell_type": "code",
   "execution_count": 26,
   "id": "c6e0b67f-ecef-4800-af2f-b9167f359316",
   "metadata": {},
   "outputs": [
    {
     "data": {
      "text/plain": [
       "Pipeline(steps=[('scaler', StandardScaler()),\n",
       "                ('model', RandomForestClassifier(max_depth=5))])"
      ]
     },
     "execution_count": 26,
     "metadata": {},
     "output_type": "execute_result"
    }
   ],
   "source": [
    "pipeline_fft.fit(X_train_fft, y_train)"
   ]
  },
  {
   "cell_type": "markdown",
   "id": "a25cfe46-8648-4c6b-a053-aed846620877",
   "metadata": {},
   "source": [
    "#### Accuracy:"
   ]
  },
  {
   "cell_type": "code",
   "execution_count": 27,
   "id": "d35e63f3-aefa-4aac-973c-89738999b7df",
   "metadata": {},
   "outputs": [
    {
     "data": {
      "text/plain": [
       "0.9802173913043478"
      ]
     },
     "execution_count": 27,
     "metadata": {},
     "output_type": "execute_result"
    }
   ],
   "source": [
    "pipeline_fft.score(X_train_fft, y_train)"
   ]
  },
  {
   "cell_type": "code",
   "execution_count": 28,
   "id": "03255e51-10b3-4a92-8add-b3e8841f42b6",
   "metadata": {},
   "outputs": [
    {
     "data": {
      "text/plain": [
       "0.9739130434782609"
      ]
     },
     "execution_count": 28,
     "metadata": {},
     "output_type": "execute_result"
    }
   ],
   "source": [
    "pipeline_fft.score(X_test_fft, y_test)"
   ]
  },
  {
   "cell_type": "markdown",
   "id": "65ac22bc-e028-416d-b1ee-2461f25a4718",
   "metadata": {},
   "source": [
    "#### ROC-Curve:"
   ]
  },
  {
   "cell_type": "code",
   "execution_count": 29,
   "id": "0f9288fe-1d7f-4a53-8cc3-7a384f9296fd",
   "metadata": {
    "tags": []
   },
   "outputs": [
    {
     "data": {
      "text/plain": [
       "<sklearn.metrics._plot.roc_curve.RocCurveDisplay at 0x1c64de6f160>"
      ]
     },
     "execution_count": 29,
     "metadata": {},
     "output_type": "execute_result"
    },
    {
     "data": {
      "image/png": "[encoded data removed]",
      "text/plain": [
       "<Figure size 432x288 with 1 Axes>"
      ]
     },
     "metadata": {},
     "output_type": "display_data"
    }
   ],
   "source": [
    "plot_roc_curve(pipeline_fft, X_train_fft, y_train)"
   ]
  },
  {
   "cell_type": "code",
   "execution_count": 30,
   "id": "f617f2ab-ace6-4870-b11f-39bd6190612c",
   "metadata": {},
   "outputs": [
    {
     "data": {
      "text/plain": [
       "<sklearn.metrics._plot.roc_curve.RocCurveDisplay at 0x1c64de67070>"
      ]
     },
     "execution_count": 30,
     "metadata": {},
     "output_type": "execute_result"
    },
    {
     "data": {
      "image/png": "[encoded data removed]",
      "text/plain": [
       "<Figure size 432x288 with 1 Axes>"
      ]
     },
     "metadata": {},
     "output_type": "display_data"
    }
   ],
   "source": [
    "plot_roc_curve(pipeline_fft, X_test_fft, y_test)"
   ]
  },
  {
   "cell_type": "markdown",
   "id": "b2cd4d72-fba0-4654-bfc6-7db685e52b6e",
   "metadata": {},
   "source": [
    "В итоге, Фурье-преобразование позволило:    \n",
    "1. Улучшить качество распознавания -- значение метрики accuracy на train и test выборке стало выше. ROC-кривая показывает, что вариант классификатора с Фурье-признаками более правильно работает, нежели чем с \"сырым\" рядом.\n",
    "2. Уменьшить размерность признакового пространства, при этом качество не ухудшилось."
   ]
  },
  {
   "cell_type": "markdown",
   "id": "bf75ee52-2417-4e6f-9058-9020aebddee4",
   "metadata": {},
   "source": [
    "## Wavelet-Features\n",
    "Продолжим эксперименты с временными рядами, вдруг, помимо частотных особенностей, у нас есть еще некоторые временные особенности в временных рядах.    \n",
    "Для их исследования воспользуемся Вейвлет-преобразованиями. Получим новые Вейвлет-признаки, обучим на них модель из Baseline."
   ]
  },
  {
   "cell_type": "code",
   "execution_count": 31,
   "id": "2b6f5a1b-4483-4b66-a21b-cd709f136435",
   "metadata": {},
   "outputs": [],
   "source": [
    "import pywt\n",
    "import itertools\n",
    "import scipy.stats\n",
    "from collections import Counter\n",
    "waveletname = 'rbio3.1'\n"
   ]
  },
  {
   "cell_type": "markdown",
   "id": "f2bb05d9-fca3-4f6b-a0db-f92169902c73",
   "metadata": {},
   "source": [
    "Используется дискретное Вейвлет-преобразование, выделим новые признаки.    \n",
    "При этом для Вейвлет-коэффициентов посчитаем различные дополнительные статистики, чтоб получить более выразительные признаки."
   ]
  },
  {
   "cell_type": "code",
   "execution_count": 32,
   "id": "67ad8ff2-6414-453a-8dd5-99ab6b37f39d",
   "metadata": {},
   "outputs": [],
   "source": [
    "def calculate_entropy(list_values):\n",
    "    counter_values = Counter(list_values).most_common()\n",
    "    probabilities = [elem[1]/len(list_values) for elem in counter_values]\n",
    "    entropy=scipy.stats.entropy(probabilities)\n",
    "    return entropy\n",
    "\n",
    "def calculate_statistics(list_values):\n",
    "    n5 = np.nanpercentile(list_values, 5)\n",
    "    n25 = np.nanpercentile(list_values, 25)\n",
    "    n75 = np.nanpercentile(list_values, 75)\n",
    "    n95 = np.nanpercentile(list_values, 95)\n",
    "    median = np.nanpercentile(list_values, 50)\n",
    "    mean = np.nanmean(list_values)\n",
    "    std = np.nanstd(list_values)\n",
    "    var = np.nanvar(list_values)\n",
    "    rms = np.nanmean(np.sqrt(list_values**2))\n",
    "    return [n5, n25, n75, n95, median, mean, std, var, rms]\n",
    "\n",
    "def calculate_crossings(list_values):\n",
    "    zero_crossing_indices = np.nonzero(np.diff(np.array(list_values) > 0))[0]\n",
    "    no_zero_crossings = len(zero_crossing_indices)\n",
    "    mean_crossing_indices = np.nonzero(\n",
    "        np.diff(np.array(list_values) > np.nanmean(list_values)))[0]\n",
    "    no_mean_crossings = len(mean_crossing_indices)\n",
    "    return [no_zero_crossings, no_mean_crossings]\n",
    "\n",
    "def get_features(list_values):\n",
    "    entropy = calculate_entropy(list_values)\n",
    "    crossings = calculate_crossings(list_values)\n",
    "    statistics = calculate_statistics(list_values)\n",
    "    return [entropy] + crossings + statistics\n",
    "\n",
    "def get_new_features(dataset, labels, waveletname):\n",
    "    new_features = []\n",
    "    for signal_no in range(0, len(dataset)):\n",
    "        features = []\n",
    "        signal = dataset[signal_no, :]\n",
    "        list_coeff = pywt.wavedec(signal, waveletname)\n",
    "        for coeff in list_coeff:\n",
    "            features += get_features(coeff)\n",
    "        new_features.append(features)\n",
    "    X = np.array(new_features)\n",
    "    Y = np.array(labels)\n",
    "    return X, Y"
   ]
  },
  {
   "cell_type": "code",
   "execution_count": 33,
   "id": "8f2eeae7-3967-43e2-b1bf-b594a3196609",
   "metadata": {},
   "outputs": [],
   "source": [
    "X_train_wavelet, Y_train_wavelet = get_new_features(X_train.to_numpy(), y_train, waveletname)\n",
    "X_test_wavelet, Y_test_wavelet = get_new_features(X_test.to_numpy(), y_test, waveletname)"
   ]
  },
  {
   "cell_type": "markdown",
   "id": "43129203-1cca-4458-b631-42797dbcb2aa",
   "metadata": {},
   "source": [
    "Посмотрим, как меняются значения признаков для целевого и нецелевого класса."
   ]
  },
  {
   "cell_type": "code",
   "execution_count": 34,
   "id": "f2201e7a-31ab-4e63-9c3b-f60cb4c1c0a7",
   "metadata": {},
   "outputs": [
    {
     "data": {
      "text/plain": [
       "[<matplotlib.lines.Line2D at 0x1c65414d640>]"
      ]
     },
     "execution_count": 34,
     "metadata": {},
     "output_type": "execute_result"
    },
    {
     "data": {
      "image/png": "[encoded data removed]",
      "text/plain": [
       "<Figure size 432x288 with 1 Axes>"
      ]
     },
     "metadata": {},
     "output_type": "display_data"
    }
   ],
   "source": [
    "plt.plot(X_train_wavelet[Y_train_wavelet==1].mean(axis=0))"
   ]
  },
  {
   "cell_type": "code",
   "execution_count": 35,
   "id": "2dbb55ad-bb5a-4c34-94c0-b83477b7524a",
   "metadata": {},
   "outputs": [
    {
     "data": {
      "text/plain": [
       "[<matplotlib.lines.Line2D at 0x1c654643850>]"
      ]
     },
     "execution_count": 35,
     "metadata": {},
     "output_type": "execute_result"
    },
    {
     "data": {
      "image/png": "[encoded data removed]",
      "text/plain": [
       "<Figure size 432x288 with 1 Axes>"
      ]
     },
     "metadata": {},
     "output_type": "display_data"
    }
   ],
   "source": [
    "plt.plot(X_train_wavelet[Y_train_wavelet==0].mean(axis=0))"
   ]
  },
  {
   "cell_type": "markdown",
   "id": "e268194f-4cb8-4e35-871b-231cd4c777c4",
   "metadata": {},
   "source": [
    "Различия видны, засунем все это в модель."
   ]
  },
  {
   "cell_type": "code",
   "execution_count": 36,
   "id": "3dcb0a37-2b63-4ee3-82ba-411b84118447",
   "metadata": {},
   "outputs": [],
   "source": [
    "pipeline_wavelet = Pipeline([('scaler', StandardScaler()), \n",
    "                     ('model',RandomForestClassifier(max_depth=5))])"
   ]
  },
  {
   "cell_type": "code",
   "execution_count": 37,
   "id": "f33833c5-ee99-4020-92e6-26016ecb433f",
   "metadata": {},
   "outputs": [
    {
     "data": {
      "text/plain": [
       "Pipeline(steps=[('scaler', StandardScaler()),\n",
       "                ('model', RandomForestClassifier(max_depth=5))])"
      ]
     },
     "execution_count": 37,
     "metadata": {},
     "output_type": "execute_result"
    }
   ],
   "source": [
    "pipeline_wavelet.fit(X_train_wavelet, Y_train_wavelet)"
   ]
  },
  {
   "cell_type": "markdown",
   "id": "b70d4d83-5761-45ab-be72-222bbcfa03b5",
   "metadata": {
    "tags": []
   },
   "source": [
    "#### Accuracy:"
   ]
  },
  {
   "cell_type": "code",
   "execution_count": 38,
   "id": "7ed39972-2552-4fd4-81a5-9c4d9c4bf38d",
   "metadata": {},
   "outputs": [
    {
     "data": {
      "text/plain": [
       "0.9860869565217392"
      ]
     },
     "execution_count": 38,
     "metadata": {},
     "output_type": "execute_result"
    }
   ],
   "source": [
    "pipeline_wavelet.score(X_train_wavelet, Y_train_wavelet)"
   ]
  },
  {
   "cell_type": "code",
   "execution_count": 39,
   "id": "c629a302-c334-48f5-895e-266e747b9a8a",
   "metadata": {},
   "outputs": [
    {
     "data": {
      "text/plain": [
       "0.9795652173913043"
      ]
     },
     "execution_count": 39,
     "metadata": {},
     "output_type": "execute_result"
    }
   ],
   "source": [
    "pipeline_wavelet.score(X_test_wavelet, Y_test_wavelet)"
   ]
  },
  {
   "cell_type": "markdown",
   "id": "4145f236-d201-44d4-a61e-f136a5348e79",
   "metadata": {},
   "source": [
    "#### ROC-Curve:"
   ]
  },
  {
   "cell_type": "code",
   "execution_count": 40,
   "id": "f8f870b7-9207-4e96-9100-8c10e39d3c67",
   "metadata": {
    "tags": []
   },
   "outputs": [
    {
     "data": {
      "text/plain": [
       "<sklearn.metrics._plot.roc_curve.RocCurveDisplay at 0x1c654657b50>"
      ]
     },
     "execution_count": 40,
     "metadata": {},
     "output_type": "execute_result"
    },
    {
     "data": {
      "image/png": "[encoded data removed]",
      "text/plain": [
       "<Figure size 432x288 with 1 Axes>"
      ]
     },
     "metadata": {},
     "output_type": "display_data"
    }
   ],
   "source": [
    "plot_roc_curve(pipeline_wavelet, X_train_wavelet, Y_train_wavelet)"
   ]
  },
  {
   "cell_type": "code",
   "execution_count": 41,
   "id": "1c0c8503-1c80-4c01-940b-465044ba8694",
   "metadata": {},
   "outputs": [
    {
     "data": {
      "text/plain": [
       "<sklearn.metrics._plot.roc_curve.RocCurveDisplay at 0x1c654854e50>"
      ]
     },
     "execution_count": 41,
     "metadata": {},
     "output_type": "execute_result"
    },
    {
     "data": {
      "image/png": "[encoded data removed]",
      "text/plain": [
       "<Figure size 432x288 with 1 Axes>"
      ]
     },
     "metadata": {},
     "output_type": "display_data"
    }
   ],
   "source": [
    "plot_roc_curve(pipeline_wavelet, X_test_wavelet, Y_test_wavelet)"
   ]
  },
  {
   "cell_type": "markdown",
   "id": "f74e3451-05fa-403a-8a13-9d0dd8a0169a",
   "metadata": {},
   "source": [
    "Качество выше, чем для \"сырых\" рядов, однако, не сильно отличается от преобразования Фурье. Оценивая вид и поведение временных рядов, можно попробовать подобрать Вейвлет другой формы, который даст более хорошие признаки для нашего набора данных. Хотя, поведение ROC кривой, в случае использования Вейвлетов, лучше, чем просто используя коэффициенты Фурье-преобразования."
   ]
  },
  {
   "cell_type": "markdown",
   "id": "e18cd9c2-aafb-4987-982a-afeaf53b2469",
   "metadata": {},
   "source": [
    "## TSFresh   \n",
    "Последней частью экспериментального исследования является работа с библиотекой для автоматической генерации признаков для временных рядов -- TSFresh. Попробуем выделить с помощью нее признаки и обучить модель."
   ]
  },
  {
   "cell_type": "code",
   "execution_count": 42,
   "id": "29226328-d626-41fd-ad13-c2ee7f5f36e7",
   "metadata": {},
   "outputs": [],
   "source": [
    "from tsfresh import extract_features, select_features\n",
    "from tsfresh.utilities.dataframe_functions import impute\n",
    "from tsfresh.feature_extraction import settings"
   ]
  },
  {
   "cell_type": "code",
   "execution_count": 43,
   "id": "e0e8b5b9-d4de-431c-8f47-0775a7617b54",
   "metadata": {},
   "outputs": [
    {
     "data": {
      "text/plain": [
       "{'linear_trend_timewise': [{'attr': 'pvalue'},\n",
       "  {'attr': 'rvalue'},\n",
       "  {'attr': 'intercept'},\n",
       "  {'attr': 'slope'},\n",
       "  {'attr': 'stderr'}],\n",
       " 'sum_values': None,\n",
       " 'median': None,\n",
       " 'mean': None,\n",
       " 'length': None,\n",
       " 'standard_deviation': None,\n",
       " 'variance': None,\n",
       " 'root_mean_square': None,\n",
       " 'maximum': None,\n",
       " 'minimum': None}"
      ]
     },
     "execution_count": 43,
     "metadata": {},
     "output_type": "execute_result"
    }
   ],
   "source": [
    "settings_efficient = settings.TimeBasedFCParameters()\n",
    "settings_efficient.update(settings.MinimalFCParameters())\n",
    "#settings_efficient.update(settings.ComprehensiveFCParameters())\n",
    "settings_efficient"
   ]
  },
  {
   "cell_type": "code",
   "execution_count": 44,
   "id": "8bf13a43-33b6-4447-8af4-ec25108ac836",
   "metadata": {},
   "outputs": [
    {
     "data": {
      "text/html": [
       "<div>\n",
       "<style scoped>\n",
       "    .dataframe tbody tr th:only-of-type {\n",
       "        vertical-align: middle;\n",
       "    }\n",
       "\n",
       "    .dataframe tbody tr th {\n",
       "        vertical-align: top;\n",
       "    }\n",
       "\n",
       "    .dataframe thead th {\n",
       "        text-align: right;\n",
       "    }\n",
       "</style>\n",
       "<table border=\"1\" class=\"dataframe\">\n",
       "  <thead>\n",
       "    <tr style=\"text-align: right;\">\n",
       "      <th></th>\n",
       "      <th>id</th>\n",
       "      <th>X1</th>\n",
       "      <th>X2</th>\n",
       "      <th>X3</th>\n",
       "      <th>X4</th>\n",
       "      <th>X5</th>\n",
       "      <th>X6</th>\n",
       "      <th>X7</th>\n",
       "      <th>X8</th>\n",
       "      <th>X9</th>\n",
       "      <th>...</th>\n",
       "      <th>X170</th>\n",
       "      <th>X171</th>\n",
       "      <th>X172</th>\n",
       "      <th>X173</th>\n",
       "      <th>X174</th>\n",
       "      <th>X175</th>\n",
       "      <th>X176</th>\n",
       "      <th>X177</th>\n",
       "      <th>X178</th>\n",
       "      <th>y</th>\n",
       "    </tr>\n",
       "  </thead>\n",
       "  <tbody>\n",
       "    <tr>\n",
       "      <th>0</th>\n",
       "      <td>X21.V1.791</td>\n",
       "      <td>135</td>\n",
       "      <td>190</td>\n",
       "      <td>229</td>\n",
       "      <td>223</td>\n",
       "      <td>192</td>\n",
       "      <td>125</td>\n",
       "      <td>55</td>\n",
       "      <td>-9</td>\n",
       "      <td>-33</td>\n",
       "      <td>...</td>\n",
       "      <td>-17</td>\n",
       "      <td>-15</td>\n",
       "      <td>-31</td>\n",
       "      <td>-77</td>\n",
       "      <td>-103</td>\n",
       "      <td>-127</td>\n",
       "      <td>-116</td>\n",
       "      <td>-83</td>\n",
       "      <td>-51</td>\n",
       "      <td>4</td>\n",
       "    </tr>\n",
       "    <tr>\n",
       "      <th>1</th>\n",
       "      <td>X15.V1.924</td>\n",
       "      <td>386</td>\n",
       "      <td>382</td>\n",
       "      <td>356</td>\n",
       "      <td>331</td>\n",
       "      <td>320</td>\n",
       "      <td>315</td>\n",
       "      <td>307</td>\n",
       "      <td>272</td>\n",
       "      <td>244</td>\n",
       "      <td>...</td>\n",
       "      <td>164</td>\n",
       "      <td>150</td>\n",
       "      <td>146</td>\n",
       "      <td>152</td>\n",
       "      <td>157</td>\n",
       "      <td>156</td>\n",
       "      <td>154</td>\n",
       "      <td>143</td>\n",
       "      <td>129</td>\n",
       "      <td>1</td>\n",
       "    </tr>\n",
       "    <tr>\n",
       "      <th>2</th>\n",
       "      <td>X8.V1.1</td>\n",
       "      <td>-32</td>\n",
       "      <td>-39</td>\n",
       "      <td>-47</td>\n",
       "      <td>-37</td>\n",
       "      <td>-32</td>\n",
       "      <td>-36</td>\n",
       "      <td>-57</td>\n",
       "      <td>-73</td>\n",
       "      <td>-85</td>\n",
       "      <td>...</td>\n",
       "      <td>57</td>\n",
       "      <td>64</td>\n",
       "      <td>48</td>\n",
       "      <td>19</td>\n",
       "      <td>-12</td>\n",
       "      <td>-30</td>\n",
       "      <td>-35</td>\n",
       "      <td>-35</td>\n",
       "      <td>-36</td>\n",
       "      <td>5</td>\n",
       "    </tr>\n",
       "    <tr>\n",
       "      <th>3</th>\n",
       "      <td>X16.V1.60</td>\n",
       "      <td>-105</td>\n",
       "      <td>-101</td>\n",
       "      <td>-96</td>\n",
       "      <td>-92</td>\n",
       "      <td>-89</td>\n",
       "      <td>-95</td>\n",
       "      <td>-102</td>\n",
       "      <td>-100</td>\n",
       "      <td>-87</td>\n",
       "      <td>...</td>\n",
       "      <td>-82</td>\n",
       "      <td>-81</td>\n",
       "      <td>-80</td>\n",
       "      <td>-77</td>\n",
       "      <td>-85</td>\n",
       "      <td>-77</td>\n",
       "      <td>-72</td>\n",
       "      <td>-69</td>\n",
       "      <td>-65</td>\n",
       "      <td>5</td>\n",
       "    </tr>\n",
       "    <tr>\n",
       "      <th>4</th>\n",
       "      <td>X20.V1.54</td>\n",
       "      <td>-9</td>\n",
       "      <td>-65</td>\n",
       "      <td>-98</td>\n",
       "      <td>-102</td>\n",
       "      <td>-78</td>\n",
       "      <td>-48</td>\n",
       "      <td>-16</td>\n",
       "      <td>0</td>\n",
       "      <td>-21</td>\n",
       "      <td>...</td>\n",
       "      <td>4</td>\n",
       "      <td>2</td>\n",
       "      <td>-12</td>\n",
       "      <td>-32</td>\n",
       "      <td>-41</td>\n",
       "      <td>-65</td>\n",
       "      <td>-83</td>\n",
       "      <td>-89</td>\n",
       "      <td>-73</td>\n",
       "      <td>5</td>\n",
       "    </tr>\n",
       "    <tr>\n",
       "      <th>...</th>\n",
       "      <td>...</td>\n",
       "      <td>...</td>\n",
       "      <td>...</td>\n",
       "      <td>...</td>\n",
       "      <td>...</td>\n",
       "      <td>...</td>\n",
       "      <td>...</td>\n",
       "      <td>...</td>\n",
       "      <td>...</td>\n",
       "      <td>...</td>\n",
       "      <td>...</td>\n",
       "      <td>...</td>\n",
       "      <td>...</td>\n",
       "      <td>...</td>\n",
       "      <td>...</td>\n",
       "      <td>...</td>\n",
       "      <td>...</td>\n",
       "      <td>...</td>\n",
       "      <td>...</td>\n",
       "      <td>...</td>\n",
       "      <td>...</td>\n",
       "    </tr>\n",
       "    <tr>\n",
       "      <th>11495</th>\n",
       "      <td>X22.V1.114</td>\n",
       "      <td>-22</td>\n",
       "      <td>-22</td>\n",
       "      <td>-23</td>\n",
       "      <td>-26</td>\n",
       "      <td>-36</td>\n",
       "      <td>-42</td>\n",
       "      <td>-45</td>\n",
       "      <td>-42</td>\n",
       "      <td>-45</td>\n",
       "      <td>...</td>\n",
       "      <td>15</td>\n",
       "      <td>16</td>\n",
       "      <td>12</td>\n",
       "      <td>5</td>\n",
       "      <td>-1</td>\n",
       "      <td>-18</td>\n",
       "      <td>-37</td>\n",
       "      <td>-47</td>\n",
       "      <td>-48</td>\n",
       "      <td>2</td>\n",
       "    </tr>\n",
       "    <tr>\n",
       "      <th>11496</th>\n",
       "      <td>X19.V1.354</td>\n",
       "      <td>-47</td>\n",
       "      <td>-11</td>\n",
       "      <td>28</td>\n",
       "      <td>77</td>\n",
       "      <td>141</td>\n",
       "      <td>211</td>\n",
       "      <td>246</td>\n",
       "      <td>240</td>\n",
       "      <td>193</td>\n",
       "      <td>...</td>\n",
       "      <td>-65</td>\n",
       "      <td>-33</td>\n",
       "      <td>-7</td>\n",
       "      <td>14</td>\n",
       "      <td>27</td>\n",
       "      <td>48</td>\n",
       "      <td>77</td>\n",
       "      <td>117</td>\n",
       "      <td>170</td>\n",
       "      <td>1</td>\n",
       "    </tr>\n",
       "    <tr>\n",
       "      <th>11497</th>\n",
       "      <td>X8.V1.28</td>\n",
       "      <td>14</td>\n",
       "      <td>6</td>\n",
       "      <td>-13</td>\n",
       "      <td>-16</td>\n",
       "      <td>10</td>\n",
       "      <td>26</td>\n",
       "      <td>27</td>\n",
       "      <td>-9</td>\n",
       "      <td>4</td>\n",
       "      <td>...</td>\n",
       "      <td>-65</td>\n",
       "      <td>-48</td>\n",
       "      <td>-61</td>\n",
       "      <td>-62</td>\n",
       "      <td>-67</td>\n",
       "      <td>-30</td>\n",
       "      <td>-2</td>\n",
       "      <td>-1</td>\n",
       "      <td>-8</td>\n",
       "      <td>5</td>\n",
       "    </tr>\n",
       "    <tr>\n",
       "      <th>11498</th>\n",
       "      <td>X10.V1.932</td>\n",
       "      <td>-40</td>\n",
       "      <td>-25</td>\n",
       "      <td>-9</td>\n",
       "      <td>-12</td>\n",
       "      <td>-2</td>\n",
       "      <td>12</td>\n",
       "      <td>7</td>\n",
       "      <td>19</td>\n",
       "      <td>22</td>\n",
       "      <td>...</td>\n",
       "      <td>121</td>\n",
       "      <td>135</td>\n",
       "      <td>148</td>\n",
       "      <td>143</td>\n",
       "      <td>116</td>\n",
       "      <td>86</td>\n",
       "      <td>68</td>\n",
       "      <td>59</td>\n",
       "      <td>55</td>\n",
       "      <td>3</td>\n",
       "    </tr>\n",
       "    <tr>\n",
       "      <th>11499</th>\n",
       "      <td>X16.V1.210</td>\n",
       "      <td>29</td>\n",
       "      <td>41</td>\n",
       "      <td>57</td>\n",
       "      <td>72</td>\n",
       "      <td>74</td>\n",
       "      <td>62</td>\n",
       "      <td>54</td>\n",
       "      <td>43</td>\n",
       "      <td>31</td>\n",
       "      <td>...</td>\n",
       "      <td>-59</td>\n",
       "      <td>-25</td>\n",
       "      <td>-4</td>\n",
       "      <td>2</td>\n",
       "      <td>5</td>\n",
       "      <td>4</td>\n",
       "      <td>-2</td>\n",
       "      <td>2</td>\n",
       "      <td>20</td>\n",
       "      <td>4</td>\n",
       "    </tr>\n",
       "  </tbody>\n",
       "</table>\n",
       "<p>11500 rows × 180 columns</p>\n",
       "</div>"
      ],
      "text/plain": [
       "               id   X1   X2   X3   X4   X5   X6   X7   X8   X9  ...  X170  \\\n",
       "0      X21.V1.791  135  190  229  223  192  125   55   -9  -33  ...   -17   \n",
       "1      X15.V1.924  386  382  356  331  320  315  307  272  244  ...   164   \n",
       "2         X8.V1.1  -32  -39  -47  -37  -32  -36  -57  -73  -85  ...    57   \n",
       "3       X16.V1.60 -105 -101  -96  -92  -89  -95 -102 -100  -87  ...   -82   \n",
       "4       X20.V1.54   -9  -65  -98 -102  -78  -48  -16    0  -21  ...     4   \n",
       "...           ...  ...  ...  ...  ...  ...  ...  ...  ...  ...  ...   ...   \n",
       "11495  X22.V1.114  -22  -22  -23  -26  -36  -42  -45  -42  -45  ...    15   \n",
       "11496  X19.V1.354  -47  -11   28   77  141  211  246  240  193  ...   -65   \n",
       "11497    X8.V1.28   14    6  -13  -16   10   26   27   -9    4  ...   -65   \n",
       "11498  X10.V1.932  -40  -25   -9  -12   -2   12    7   19   22  ...   121   \n",
       "11499  X16.V1.210   29   41   57   72   74   62   54   43   31  ...   -59   \n",
       "\n",
       "       X171  X172  X173  X174  X175  X176  X177  X178  y  \n",
       "0       -15   -31   -77  -103  -127  -116   -83   -51  4  \n",
       "1       150   146   152   157   156   154   143   129  1  \n",
       "2        64    48    19   -12   -30   -35   -35   -36  5  \n",
       "3       -81   -80   -77   -85   -77   -72   -69   -65  5  \n",
       "4         2   -12   -32   -41   -65   -83   -89   -73  5  \n",
       "...     ...   ...   ...   ...   ...   ...   ...   ... ..  \n",
       "11495    16    12     5    -1   -18   -37   -47   -48  2  \n",
       "11496   -33    -7    14    27    48    77   117   170  1  \n",
       "11497   -48   -61   -62   -67   -30    -2    -1    -8  5  \n",
       "11498   135   148   143   116    86    68    59    55  3  \n",
       "11499   -25    -4     2     5     4    -2     2    20  4  \n",
       "\n",
       "[11500 rows x 180 columns]"
      ]
     },
     "execution_count": 44,
     "metadata": {},
     "output_type": "execute_result"
    }
   ],
   "source": [
    "eeg_ts= eeg.reset_index()\n",
    "eeg_ts"
   ]
  },
  {
   "cell_type": "code",
   "execution_count": 45,
   "id": "4cb75c75-0f45-4295-bd99-1a3e0d412a0d",
   "metadata": {},
   "outputs": [],
   "source": [
    "X_ts = extract_features(\n",
    "    eeg_ts.drop('y',axis=1),\n",
    "    column_id ='id',\n",
    "    impute_function=impute, \n",
    "    default_fc_parameters=settings_efficient,\n",
    "    n_jobs=6,\n",
    "    disable_progressbar=True,\n",
    "    show_warnings=False\n",
    ")"
   ]
  },
  {
   "cell_type": "code",
   "execution_count": 46,
   "id": "2659220c-c4d0-4993-a078-f661bdd16347",
   "metadata": {},
   "outputs": [],
   "source": [
    "y_ts = (eeg_ts.set_index('id')['y'] == 1).astype('int64')"
   ]
  },
  {
   "cell_type": "code",
   "execution_count": 47,
   "id": "defa0313-2c0e-4c30-ae87-5bd43f856489",
   "metadata": {},
   "outputs": [],
   "source": [
    "X_sel_ts = select_features(X_ts, y_ts)"
   ]
  },
  {
   "cell_type": "code",
   "execution_count": 48,
   "id": "ada507da-ef9b-4b30-a611-c222332c13b4",
   "metadata": {},
   "outputs": [
    {
     "data": {
      "text/html": [
       "<div>\n",
       "<style scoped>\n",
       "    .dataframe tbody tr th:only-of-type {\n",
       "        vertical-align: middle;\n",
       "    }\n",
       "\n",
       "    .dataframe tbody tr th {\n",
       "        vertical-align: top;\n",
       "    }\n",
       "\n",
       "    .dataframe thead th {\n",
       "        text-align: right;\n",
       "    }\n",
       "</style>\n",
       "<table border=\"1\" class=\"dataframe\">\n",
       "  <thead>\n",
       "    <tr style=\"text-align: right;\">\n",
       "      <th></th>\n",
       "      <th>X81__root_mean_square</th>\n",
       "      <th>X66__root_mean_square</th>\n",
       "      <th>X37__root_mean_square</th>\n",
       "      <th>X103__root_mean_square</th>\n",
       "      <th>X65__root_mean_square</th>\n",
       "      <th>X104__root_mean_square</th>\n",
       "      <th>X64__root_mean_square</th>\n",
       "      <th>X105__root_mean_square</th>\n",
       "      <th>X38__root_mean_square</th>\n",
       "      <th>X106__root_mean_square</th>\n",
       "      <th>...</th>\n",
       "      <th>X28__mean</th>\n",
       "      <th>X28__maximum</th>\n",
       "      <th>X28__minimum</th>\n",
       "      <th>X28__median</th>\n",
       "      <th>X28__sum_values</th>\n",
       "      <th>X31__maximum</th>\n",
       "      <th>X31__sum_values</th>\n",
       "      <th>X31__median</th>\n",
       "      <th>X31__minimum</th>\n",
       "      <th>X31__mean</th>\n",
       "    </tr>\n",
       "  </thead>\n",
       "  <tbody>\n",
       "    <tr>\n",
       "      <th>X1.V1</th>\n",
       "      <td>50.0</td>\n",
       "      <td>7.0</td>\n",
       "      <td>38.0</td>\n",
       "      <td>29.0</td>\n",
       "      <td>13.0</td>\n",
       "      <td>5.0</td>\n",
       "      <td>1.0</td>\n",
       "      <td>21.0</td>\n",
       "      <td>24.0</td>\n",
       "      <td>33.0</td>\n",
       "      <td>...</td>\n",
       "      <td>5.0</td>\n",
       "      <td>5.0</td>\n",
       "      <td>5.0</td>\n",
       "      <td>5.0</td>\n",
       "      <td>5.0</td>\n",
       "      <td>25.0</td>\n",
       "      <td>25.0</td>\n",
       "      <td>25.0</td>\n",
       "      <td>25.0</td>\n",
       "      <td>25.0</td>\n",
       "    </tr>\n",
       "    <tr>\n",
       "      <th>X1.V1.1</th>\n",
       "      <td>15.0</td>\n",
       "      <td>52.0</td>\n",
       "      <td>94.0</td>\n",
       "      <td>24.0</td>\n",
       "      <td>24.0</td>\n",
       "      <td>22.0</td>\n",
       "      <td>1.0</td>\n",
       "      <td>24.0</td>\n",
       "      <td>107.0</td>\n",
       "      <td>40.0</td>\n",
       "      <td>...</td>\n",
       "      <td>-175.0</td>\n",
       "      <td>-175.0</td>\n",
       "      <td>-175.0</td>\n",
       "      <td>-175.0</td>\n",
       "      <td>-175.0</td>\n",
       "      <td>-47.0</td>\n",
       "      <td>-47.0</td>\n",
       "      <td>-47.0</td>\n",
       "      <td>-47.0</td>\n",
       "      <td>-47.0</td>\n",
       "    </tr>\n",
       "    <tr>\n",
       "      <th>X1.V1.10</th>\n",
       "      <td>54.0</td>\n",
       "      <td>19.0</td>\n",
       "      <td>23.0</td>\n",
       "      <td>98.0</td>\n",
       "      <td>22.0</td>\n",
       "      <td>108.0</td>\n",
       "      <td>32.0</td>\n",
       "      <td>100.0</td>\n",
       "      <td>13.0</td>\n",
       "      <td>89.0</td>\n",
       "      <td>...</td>\n",
       "      <td>-36.0</td>\n",
       "      <td>-36.0</td>\n",
       "      <td>-36.0</td>\n",
       "      <td>-36.0</td>\n",
       "      <td>-36.0</td>\n",
       "      <td>25.0</td>\n",
       "      <td>25.0</td>\n",
       "      <td>25.0</td>\n",
       "      <td>25.0</td>\n",
       "      <td>25.0</td>\n",
       "    </tr>\n",
       "    <tr>\n",
       "      <th>X1.V1.101</th>\n",
       "      <td>83.0</td>\n",
       "      <td>40.0</td>\n",
       "      <td>122.0</td>\n",
       "      <td>62.0</td>\n",
       "      <td>17.0</td>\n",
       "      <td>46.0</td>\n",
       "      <td>14.0</td>\n",
       "      <td>25.0</td>\n",
       "      <td>171.0</td>\n",
       "      <td>7.0</td>\n",
       "      <td>...</td>\n",
       "      <td>-49.0</td>\n",
       "      <td>-49.0</td>\n",
       "      <td>-49.0</td>\n",
       "      <td>-49.0</td>\n",
       "      <td>-49.0</td>\n",
       "      <td>-168.0</td>\n",
       "      <td>-168.0</td>\n",
       "      <td>-168.0</td>\n",
       "      <td>-168.0</td>\n",
       "      <td>-168.0</td>\n",
       "    </tr>\n",
       "    <tr>\n",
       "      <th>X1.V1.102</th>\n",
       "      <td>7.0</td>\n",
       "      <td>18.0</td>\n",
       "      <td>8.0</td>\n",
       "      <td>3.0</td>\n",
       "      <td>22.0</td>\n",
       "      <td>1.0</td>\n",
       "      <td>20.0</td>\n",
       "      <td>1.0</td>\n",
       "      <td>11.0</td>\n",
       "      <td>3.0</td>\n",
       "      <td>...</td>\n",
       "      <td>-26.0</td>\n",
       "      <td>-26.0</td>\n",
       "      <td>-26.0</td>\n",
       "      <td>-26.0</td>\n",
       "      <td>-26.0</td>\n",
       "      <td>-17.0</td>\n",
       "      <td>-17.0</td>\n",
       "      <td>-17.0</td>\n",
       "      <td>-17.0</td>\n",
       "      <td>-17.0</td>\n",
       "    </tr>\n",
       "    <tr>\n",
       "      <th>...</th>\n",
       "      <td>...</td>\n",
       "      <td>...</td>\n",
       "      <td>...</td>\n",
       "      <td>...</td>\n",
       "      <td>...</td>\n",
       "      <td>...</td>\n",
       "      <td>...</td>\n",
       "      <td>...</td>\n",
       "      <td>...</td>\n",
       "      <td>...</td>\n",
       "      <td>...</td>\n",
       "      <td>...</td>\n",
       "      <td>...</td>\n",
       "      <td>...</td>\n",
       "      <td>...</td>\n",
       "      <td>...</td>\n",
       "      <td>...</td>\n",
       "      <td>...</td>\n",
       "      <td>...</td>\n",
       "      <td>...</td>\n",
       "      <td>...</td>\n",
       "    </tr>\n",
       "    <tr>\n",
       "      <th>X9.V1.994</th>\n",
       "      <td>492.0</td>\n",
       "      <td>608.0</td>\n",
       "      <td>213.0</td>\n",
       "      <td>188.0</td>\n",
       "      <td>622.0</td>\n",
       "      <td>76.0</td>\n",
       "      <td>584.0</td>\n",
       "      <td>4.0</td>\n",
       "      <td>189.0</td>\n",
       "      <td>74.0</td>\n",
       "      <td>...</td>\n",
       "      <td>61.0</td>\n",
       "      <td>61.0</td>\n",
       "      <td>61.0</td>\n",
       "      <td>61.0</td>\n",
       "      <td>61.0</td>\n",
       "      <td>254.0</td>\n",
       "      <td>254.0</td>\n",
       "      <td>254.0</td>\n",
       "      <td>254.0</td>\n",
       "      <td>254.0</td>\n",
       "    </tr>\n",
       "    <tr>\n",
       "      <th>X9.V11</th>\n",
       "      <td>74.0</td>\n",
       "      <td>35.0</td>\n",
       "      <td>51.0</td>\n",
       "      <td>57.0</td>\n",
       "      <td>52.0</td>\n",
       "      <td>60.0</td>\n",
       "      <td>47.0</td>\n",
       "      <td>44.0</td>\n",
       "      <td>33.0</td>\n",
       "      <td>24.0</td>\n",
       "      <td>...</td>\n",
       "      <td>-89.0</td>\n",
       "      <td>-89.0</td>\n",
       "      <td>-89.0</td>\n",
       "      <td>-89.0</td>\n",
       "      <td>-89.0</td>\n",
       "      <td>-57.0</td>\n",
       "      <td>-57.0</td>\n",
       "      <td>-57.0</td>\n",
       "      <td>-57.0</td>\n",
       "      <td>-57.0</td>\n",
       "    </tr>\n",
       "    <tr>\n",
       "      <th>X9.V12</th>\n",
       "      <td>131.0</td>\n",
       "      <td>1.0</td>\n",
       "      <td>42.0</td>\n",
       "      <td>6.0</td>\n",
       "      <td>5.0</td>\n",
       "      <td>1.0</td>\n",
       "      <td>6.0</td>\n",
       "      <td>2.0</td>\n",
       "      <td>57.0</td>\n",
       "      <td>5.0</td>\n",
       "      <td>...</td>\n",
       "      <td>31.0</td>\n",
       "      <td>31.0</td>\n",
       "      <td>31.0</td>\n",
       "      <td>31.0</td>\n",
       "      <td>31.0</td>\n",
       "      <td>43.0</td>\n",
       "      <td>43.0</td>\n",
       "      <td>43.0</td>\n",
       "      <td>43.0</td>\n",
       "      <td>43.0</td>\n",
       "    </tr>\n",
       "    <tr>\n",
       "      <th>X9.V13</th>\n",
       "      <td>0.0</td>\n",
       "      <td>9.0</td>\n",
       "      <td>36.0</td>\n",
       "      <td>63.0</td>\n",
       "      <td>7.0</td>\n",
       "      <td>55.0</td>\n",
       "      <td>6.0</td>\n",
       "      <td>57.0</td>\n",
       "      <td>36.0</td>\n",
       "      <td>58.0</td>\n",
       "      <td>...</td>\n",
       "      <td>36.0</td>\n",
       "      <td>36.0</td>\n",
       "      <td>36.0</td>\n",
       "      <td>36.0</td>\n",
       "      <td>36.0</td>\n",
       "      <td>44.0</td>\n",
       "      <td>44.0</td>\n",
       "      <td>44.0</td>\n",
       "      <td>44.0</td>\n",
       "      <td>44.0</td>\n",
       "    </tr>\n",
       "    <tr>\n",
       "      <th>X9.V14</th>\n",
       "      <td>231.0</td>\n",
       "      <td>397.0</td>\n",
       "      <td>140.0</td>\n",
       "      <td>452.0</td>\n",
       "      <td>380.0</td>\n",
       "      <td>622.0</td>\n",
       "      <td>369.0</td>\n",
       "      <td>664.0</td>\n",
       "      <td>74.0</td>\n",
       "      <td>585.0</td>\n",
       "      <td>...</td>\n",
       "      <td>338.0</td>\n",
       "      <td>338.0</td>\n",
       "      <td>338.0</td>\n",
       "      <td>338.0</td>\n",
       "      <td>338.0</td>\n",
       "      <td>133.0</td>\n",
       "      <td>133.0</td>\n",
       "      <td>133.0</td>\n",
       "      <td>133.0</td>\n",
       "      <td>133.0</td>\n",
       "    </tr>\n",
       "  </tbody>\n",
       "</table>\n",
       "<p>11500 rows × 278 columns</p>\n",
       "</div>"
      ],
      "text/plain": [
       "           X81__root_mean_square  X66__root_mean_square  \\\n",
       "X1.V1                       50.0                    7.0   \n",
       "X1.V1.1                     15.0                   52.0   \n",
       "X1.V1.10                    54.0                   19.0   \n",
       "X1.V1.101                   83.0                   40.0   \n",
       "X1.V1.102                    7.0                   18.0   \n",
       "...                          ...                    ...   \n",
       "X9.V1.994                  492.0                  608.0   \n",
       "X9.V11                      74.0                   35.0   \n",
       "X9.V12                     131.0                    1.0   \n",
       "X9.V13                       0.0                    9.0   \n",
       "X9.V14                     231.0                  397.0   \n",
       "\n",
       "           X37__root_mean_square  X103__root_mean_square  \\\n",
       "X1.V1                       38.0                    29.0   \n",
       "X1.V1.1                     94.0                    24.0   \n",
       "X1.V1.10                    23.0                    98.0   \n",
       "X1.V1.101                  122.0                    62.0   \n",
       "X1.V1.102                    8.0                     3.0   \n",
       "...                          ...                     ...   \n",
       "X9.V1.994                  213.0                   188.0   \n",
       "X9.V11                      51.0                    57.0   \n",
       "X9.V12                      42.0                     6.0   \n",
       "X9.V13                      36.0                    63.0   \n",
       "X9.V14                     140.0                   452.0   \n",
       "\n",
       "           X65__root_mean_square  X104__root_mean_square  \\\n",
       "X1.V1                       13.0                     5.0   \n",
       "X1.V1.1                     24.0                    22.0   \n",
       "X1.V1.10                    22.0                   108.0   \n",
       "X1.V1.101                   17.0                    46.0   \n",
       "X1.V1.102                   22.0                     1.0   \n",
       "...                          ...                     ...   \n",
       "X9.V1.994                  622.0                    76.0   \n",
       "X9.V11                      52.0                    60.0   \n",
       "X9.V12                       5.0                     1.0   \n",
       "X9.V13                       7.0                    55.0   \n",
       "X9.V14                     380.0                   622.0   \n",
       "\n",
       "           X64__root_mean_square  X105__root_mean_square  \\\n",
       "X1.V1                        1.0                    21.0   \n",
       "X1.V1.1                      1.0                    24.0   \n",
       "X1.V1.10                    32.0                   100.0   \n",
       "X1.V1.101                   14.0                    25.0   \n",
       "X1.V1.102                   20.0                     1.0   \n",
       "...                          ...                     ...   \n",
       "X9.V1.994                  584.0                     4.0   \n",
       "X9.V11                      47.0                    44.0   \n",
       "X9.V12                       6.0                     2.0   \n",
       "X9.V13                       6.0                    57.0   \n",
       "X9.V14                     369.0                   664.0   \n",
       "\n",
       "           X38__root_mean_square  X106__root_mean_square  ...  X28__mean  \\\n",
       "X1.V1                       24.0                    33.0  ...        5.0   \n",
       "X1.V1.1                    107.0                    40.0  ...     -175.0   \n",
       "X1.V1.10                    13.0                    89.0  ...      -36.0   \n",
       "X1.V1.101                  171.0                     7.0  ...      -49.0   \n",
       "X1.V1.102                   11.0                     3.0  ...      -26.0   \n",
       "...                          ...                     ...  ...        ...   \n",
       "X9.V1.994                  189.0                    74.0  ...       61.0   \n",
       "X9.V11                      33.0                    24.0  ...      -89.0   \n",
       "X9.V12                      57.0                     5.0  ...       31.0   \n",
       "X9.V13                      36.0                    58.0  ...       36.0   \n",
       "X9.V14                      74.0                   585.0  ...      338.0   \n",
       "\n",
       "           X28__maximum  X28__minimum  X28__median  X28__sum_values  \\\n",
       "X1.V1               5.0           5.0          5.0              5.0   \n",
       "X1.V1.1          -175.0        -175.0       -175.0           -175.0   \n",
       "X1.V1.10          -36.0         -36.0        -36.0            -36.0   \n",
       "X1.V1.101         -49.0         -49.0        -49.0            -49.0   \n",
       "X1.V1.102         -26.0         -26.0        -26.0            -26.0   \n",
       "...                 ...           ...          ...              ...   \n",
       "X9.V1.994          61.0          61.0         61.0             61.0   \n",
       "X9.V11            -89.0         -89.0        -89.0            -89.0   \n",
       "X9.V12             31.0          31.0         31.0             31.0   \n",
       "X9.V13             36.0          36.0         36.0             36.0   \n",
       "X9.V14            338.0         338.0        338.0            338.0   \n",
       "\n",
       "           X31__maximum  X31__sum_values  X31__median  X31__minimum  X31__mean  \n",
       "X1.V1              25.0             25.0         25.0          25.0       25.0  \n",
       "X1.V1.1           -47.0            -47.0        -47.0         -47.0      -47.0  \n",
       "X1.V1.10           25.0             25.0         25.0          25.0       25.0  \n",
       "X1.V1.101        -168.0           -168.0       -168.0        -168.0     -168.0  \n",
       "X1.V1.102         -17.0            -17.0        -17.0         -17.0      -17.0  \n",
       "...                 ...              ...          ...           ...        ...  \n",
       "X9.V1.994         254.0            254.0        254.0         254.0      254.0  \n",
       "X9.V11            -57.0            -57.0        -57.0         -57.0      -57.0  \n",
       "X9.V12             43.0             43.0         43.0          43.0       43.0  \n",
       "X9.V13             44.0             44.0         44.0          44.0       44.0  \n",
       "X9.V14            133.0            133.0        133.0         133.0      133.0  \n",
       "\n",
       "[11500 rows x 278 columns]"
      ]
     },
     "execution_count": 48,
     "metadata": {},
     "output_type": "execute_result"
    }
   ],
   "source": [
    "X_sel_ts"
   ]
  },
  {
   "cell_type": "code",
   "execution_count": 49,
   "id": "750b9e96-f74f-4a5c-91f2-da1644fe0d36",
   "metadata": {},
   "outputs": [],
   "source": [
    "X_train_ts, X_test_ts, y_train_ts, y_test_ts = train_test_split(X_sel_ts, y, test_size=0.2, random_state=42, stratify=y)"
   ]
  },
  {
   "cell_type": "code",
   "execution_count": 50,
   "id": "efd8326c-4bf9-4968-befa-5b9942591310",
   "metadata": {},
   "outputs": [
    {
     "data": {
      "text/plain": [
       "(9200, 278)"
      ]
     },
     "execution_count": 50,
     "metadata": {},
     "output_type": "execute_result"
    }
   ],
   "source": [
    "X_train_ts.shape"
   ]
  },
  {
   "cell_type": "code",
   "execution_count": 51,
   "id": "19c7c83b-b614-44b6-937a-e6416d3ae768",
   "metadata": {},
   "outputs": [],
   "source": [
    "pipeline_tsfresh = Pipeline([('scaler', StandardScaler()), \n",
    "                     ('model',RandomForestClassifier(max_depth=5))])"
   ]
  },
  {
   "cell_type": "code",
   "execution_count": 52,
   "id": "25d5b800-3e44-46c0-ad90-989f8d2c69a6",
   "metadata": {},
   "outputs": [
    {
     "data": {
      "text/plain": [
       "Pipeline(steps=[('scaler', StandardScaler()),\n",
       "                ('model', RandomForestClassifier(max_depth=5))])"
      ]
     },
     "execution_count": 52,
     "metadata": {},
     "output_type": "execute_result"
    }
   ],
   "source": [
    "pipeline_tsfresh.fit(X_train_ts, y_train_ts)"
   ]
  },
  {
   "cell_type": "markdown",
   "id": "9fca4019-be49-4db8-a719-f3b9391ff221",
   "metadata": {
    "tags": []
   },
   "source": [
    "#### Accuracy:"
   ]
  },
  {
   "cell_type": "code",
   "execution_count": 53,
   "id": "d66419b2-7c23-43f9-ae48-d7257eae5bda",
   "metadata": {},
   "outputs": [
    {
     "data": {
      "text/plain": [
       "0.8"
      ]
     },
     "execution_count": 53,
     "metadata": {},
     "output_type": "execute_result"
    }
   ],
   "source": [
    "pipeline_tsfresh.score(X_train_ts, y_train_ts)"
   ]
  },
  {
   "cell_type": "code",
   "execution_count": 54,
   "id": "17279cf6-7e81-4ae7-b028-7f45b4c36281",
   "metadata": {},
   "outputs": [
    {
     "data": {
      "text/plain": [
       "0.8"
      ]
     },
     "execution_count": 54,
     "metadata": {},
     "output_type": "execute_result"
    }
   ],
   "source": [
    "pipeline_tsfresh.score(X_test_ts, y_test_ts)"
   ]
  },
  {
   "cell_type": "markdown",
   "id": "2112578d-8c2e-42e6-b5af-debff56b67cb",
   "metadata": {},
   "source": [
    "#### ROC-Curve:"
   ]
  },
  {
   "cell_type": "code",
   "execution_count": 55,
   "id": "c9abbf1e-78c6-4ae8-9113-114edd92b1e2",
   "metadata": {
    "tags": []
   },
   "outputs": [
    {
     "data": {
      "text/plain": [
       "<sklearn.metrics._plot.roc_curve.RocCurveDisplay at 0x1c6692db970>"
      ]
     },
     "execution_count": 55,
     "metadata": {},
     "output_type": "execute_result"
    },
    {
     "data": {
      "image/png": "[encoded data removed]",
      "text/plain": [
       "<Figure size 432x288 with 1 Axes>"
      ]
     },
     "metadata": {},
     "output_type": "display_data"
    }
   ],
   "source": [
    "plot_roc_curve(pipeline_tsfresh, X_train_ts, y_train_ts)"
   ]
  },
  {
   "cell_type": "code",
   "execution_count": 56,
   "id": "ce4de23b-413b-49f9-98cd-74cb6ff0d7f5",
   "metadata": {},
   "outputs": [
    {
     "data": {
      "text/plain": [
       "<sklearn.metrics._plot.roc_curve.RocCurveDisplay at 0x1c654051970>"
      ]
     },
     "execution_count": 56,
     "metadata": {},
     "output_type": "execute_result"
    },
    {
     "data": {
      "image/png": "[encoded data removed]",
      "text/plain": [
       "<Figure size 432x288 with 1 Axes>"
      ]
     },
     "metadata": {},
     "output_type": "display_data"
    }
   ],
   "source": [
    "plot_roc_curve(pipeline_tsfresh, X_test_ts, y_test_ts)"
   ]
  },
  {
   "cell_type": "markdown",
   "id": "a2807465-fdc3-42d6-a6db-64f3336aa003",
   "metadata": {},
   "source": [
    "Автоматическая генерация признаков показала плохие результаты. Особенно на тестовой выборке. Предположительно, это может быть связано с неверно выбранной подборкой признаков для генерации, однако на большей выборке признаков у меня не хватает ресурсов компьютера.     \n",
    "По всей видимости, нужно правильным образом выбирать признаки, которые мы хотим посчитать для временного ряда более точно. Таким образом, автоматические признаки \"из коробки\" работают не очень хорошо для данной задачи, в отличие от Фурье и Вейвлет преобразований.\n",
    "В качестве итога для данной задачи, можно сказать, что наиболее предпочтительным методом извлечения признака для данного набора данных является Вейвлет-преобразование."
   ]
  }
 ],
 "metadata": {
  "kernelspec": {
   "display_name": "Python 3 (ipykernel)",
   "language": "python",
   "name": "python3"
  },
  "language_info": {
   "codemirror_mode": {
    "name": "ipython",
    "version": 3
   },
   "file_extension": ".py",
   "mimetype": "text/x-python",
   "name": "python",
   "nbconvert_exporter": "python",
   "pygments_lexer": "ipython3",
   "version": "3.9.6"
  }
 },
 "nbformat": 4,
 "nbformat_minor": 5
}
